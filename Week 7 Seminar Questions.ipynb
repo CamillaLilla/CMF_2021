{
 "cells": [
  {
   "cell_type": "markdown",
   "id": "658637fc",
   "metadata": {},
   "source": [
    "# week 7 Seminar Questions "
   ]
  },
  {
   "cell_type": "code",
   "execution_count": 5,
   "id": "83fa6024",
   "metadata": {},
   "outputs": [],
   "source": [
    "import numpy as np\n",
    "import pandas as pd\n",
    "import os\n",
    "#using os we don't need to use %d for percentages "
   ]
  },
  {
   "cell_type": "markdown",
   "id": "79fe08c0",
   "metadata": {},
   "source": [
    " BINOMIAL TREES \n"
   ]
  },
  {
   "cell_type": "markdown",
   "id": "cb69f4ab",
   "metadata": {},
   "source": [
    "QUESTION 1 "
   ]
  },
  {
   "cell_type": "code",
   "execution_count": 6,
   "id": "b9d3e2a9",
   "metadata": {},
   "outputs": [],
   "source": [
    "\n",
    "# 5 imputs for European Call Option \n",
    "\n",
    "S0 = 10                 # spot stock price\n",
    "K = 11                  # strike\n",
    "T = 0.25                # maturity \n",
    "r = 0.04                # risk free rate \n",
    "sigma = 0.25            # volatility (diffusion coefficient), we calibrate volatility, not extimate\n",
    "N = 5                   # number of time steps (number of periods)\n",
    "payoff = \"call\"         # payoff\n",
    "\n",
    "#after we run it, Python record the data \n"
   ]
  },
  {
   "cell_type": "code",
   "execution_count": 7,
   "id": "bbbbb227",
   "metadata": {},
   "outputs": [],
   "source": [
    "dT = float(T) / N                             # Delta t\n",
    "u = np.exp(sigma * np.sqrt(dT))               # up factor\n",
    "d = 1.0 / u                                   # down factor"
   ]
  },
  {
   "cell_type": "code",
   "execution_count": 8,
   "id": "05043d2e",
   "metadata": {},
   "outputs": [],
   "source": [
    "# we start to create the tree \n",
    "\n"
   ]
  },
  {
   "cell_type": "code",
   "execution_count": 9,
   "id": "87fd8c30",
   "metadata": {},
   "outputs": [],
   "source": [
    "\n",
    "S = np.zeros((N + 1, N + 1))\n",
    "S[0, 0] = S0\n",
    "z = 1\n",
    "for t in range(1, N + 1):\n",
    "    for i in range(z):\n",
    "        S[i, t] = S[i, t-1] * u\n",
    "        S[i+1, t] = S[i, t-1] * d\n",
    "    z += 1"
   ]
  },
  {
   "cell_type": "code",
   "execution_count": 11,
   "id": "7a6a6bf3",
   "metadata": {},
   "outputs": [
    {
     "data": {
      "text/plain": [
       "array([[10.        , 10.57493726, 11.18292981, 11.82587812, 12.50579192,\n",
       "        13.2247965 ],\n",
       "       [ 0.        ,  9.45632087, 10.        , 10.57493726, 11.18292981,\n",
       "        11.82587812],\n",
       "       [ 0.        ,  0.        ,  8.94220045,  9.45632087, 10.        ,\n",
       "        10.57493726],\n",
       "       [ 0.        ,  0.        ,  0.        ,  8.45603168,  8.94220045,\n",
       "         9.45632087],\n",
       "       [ 0.        ,  0.        ,  0.        ,  0.        ,  7.99629489,\n",
       "         8.45603168],\n",
       "       [ 0.        ,  0.        ,  0.        ,  0.        ,  0.        ,\n",
       "         7.56155303]])"
      ]
     },
     "execution_count": 11,
     "metadata": {},
     "output_type": "execute_result"
    }
   ],
   "source": [
    "S"
   ]
  },
  {
   "cell_type": "code",
   "execution_count": 12,
   "id": "aaaa13e3",
   "metadata": {},
   "outputs": [],
   "source": [
    "# the results is 6 values because it is a 5 time steps tree"
   ]
  },
  {
   "cell_type": "code",
   "execution_count": 13,
   "id": "48b8d0b6",
   "metadata": {},
   "outputs": [
    {
     "data": {
      "text/plain": [
       "0.5039253348587126"
      ]
     },
     "execution_count": 13,
     "metadata": {},
     "output_type": "execute_result"
    }
   ],
   "source": [
    "a = np.exp(r * dT)    # risk free compound return\n",
    "p = (a - d)/ (u - d)  # risk neutral up probability\n",
    "q = 1.0 - p           # risk neutral down probability\n",
    "p"
   ]
  },
  {
   "cell_type": "code",
   "execution_count": 14,
   "id": "56540f81",
   "metadata": {},
   "outputs": [
    {
     "data": {
      "text/plain": [
       "array([[0.        , 0.        , 0.        , 0.        , 0.        ,\n",
       "        2.2247965 ],\n",
       "       [0.        , 0.        , 0.        , 0.        , 0.        ,\n",
       "        0.82587812],\n",
       "       [0.        , 0.        , 0.        , 0.        , 0.        ,\n",
       "        0.        ],\n",
       "       [0.        , 0.        , 0.        , 0.        , 0.        ,\n",
       "        0.        ],\n",
       "       [0.        , 0.        , 0.        , 0.        , 0.        ,\n",
       "        0.        ],\n",
       "       [0.        , 0.        , 0.        , 0.        , 0.        ,\n",
       "        0.        ]])"
      ]
     },
     "execution_count": 14,
     "metadata": {},
     "output_type": "execute_result"
    }
   ],
   "source": [
    "S_T = S[:,-1]\n",
    "V = np.zeros((N + 1, N + 1))  \n",
    "\n",
    "#create a loop \n",
    "\n",
    "if payoff ==\"call\":\n",
    "    V[:,-1] = np.maximum(S_T-K, 0.0)\n",
    "elif payoff ==\"put\":\n",
    "    V[:,-1] = np.maximum(K-S_T, 0.0)\n",
    "V\n",
    "\n",
    "#we only have 2 values "
   ]
  },
  {
   "cell_type": "code",
   "execution_count": 15,
   "id": "bae04141",
   "metadata": {},
   "outputs": [
    {
     "data": {
      "text/plain": [
       "array([[0.20236186, 0.35036502, 0.59324718, 0.97397638, 1.52776994,\n",
       "        2.2247965 ],\n",
       "       [0.        , 0.05283313, 0.10505308, 0.20888688, 0.41534938,\n",
       "        0.82587812],\n",
       "       [0.        , 0.        , 0.        , 0.        , 0.        ,\n",
       "        0.        ],\n",
       "       [0.        , 0.        , 0.        , 0.        , 0.        ,\n",
       "        0.        ],\n",
       "       [0.        , 0.        , 0.        , 0.        , 0.        ,\n",
       "        0.        ],\n",
       "       [0.        , 0.        , 0.        , 0.        , 0.        ,\n",
       "        0.        ]])"
      ]
     },
     "execution_count": 15,
     "metadata": {},
     "output_type": "execute_result"
    }
   ],
   "source": [
    "\n",
    "# CODE for European Option\n",
    "# create a loop inside the loop \n",
    "for j in range(N-1, -1, -1):\n",
    "    for i in range(j+1):\n",
    "        V[i,j] = np.exp(-r*dT) * (p * V[i,j + 1] + q * V[i + 1,j + 1])\n",
    "V"
   ]
  },
  {
   "cell_type": "code",
   "execution_count": 17,
   "id": "99a89287",
   "metadata": {},
   "outputs": [
    {
     "name": "stdout",
     "output_type": "stream",
     "text": [
      "European call is 0.2023618622711507\n"
     ]
    }
   ],
   "source": [
    "print('European ' + payoff + ' is', str( V[0,0]))"
   ]
  },
  {
   "cell_type": "markdown",
   "id": "0d22ed66",
   "metadata": {},
   "source": [
    "QUESTION 2"
   ]
  },
  {
   "cell_type": "markdown",
   "id": "66ffc60c",
   "metadata": {},
   "source": [
    "Same tree as before, we just need to change the payoff from call to put"
   ]
  },
  {
   "cell_type": "code",
   "execution_count": 18,
   "id": "2fc2e376",
   "metadata": {},
   "outputs": [],
   "source": [
    "payoff = \"put\""
   ]
  },
  {
   "cell_type": "code",
   "execution_count": 19,
   "id": "6f26273a",
   "metadata": {},
   "outputs": [
    {
     "data": {
      "text/plain": [
       "array([[0.        , 0.        , 0.        , 0.        , 0.        ,\n",
       "        0.        ],\n",
       "       [0.        , 0.        , 0.        , 0.        , 0.        ,\n",
       "        0.        ],\n",
       "       [0.        , 0.        , 0.        , 0.        , 0.        ,\n",
       "        0.42506274],\n",
       "       [0.        , 0.        , 0.        , 0.        , 0.        ,\n",
       "        1.54367913],\n",
       "       [0.        , 0.        , 0.        , 0.        , 0.        ,\n",
       "        2.54396832],\n",
       "       [0.        , 0.        , 0.        , 0.        , 0.        ,\n",
       "        3.43844697]])"
      ]
     },
     "execution_count": 19,
     "metadata": {},
     "output_type": "execute_result"
    }
   ],
   "source": [
    "\n",
    "S_T = S[:,-1]\n",
    "V = np.zeros((N + 1, N + 1))\n",
    "if payoff ==\"call\":\n",
    "    V[:,-1] = np.maximum(S_T-K, 0.0)\n",
    "elif payoff ==\"put\":\n",
    "    V[:,-1] = np.maximum(K-S_T, 0.0)\n",
    "V"
   ]
  },
  {
   "cell_type": "code",
   "execution_count": 20,
   "id": "8ca85b2d",
   "metadata": {},
   "outputs": [
    {
     "data": {
      "text/plain": [
       "array([[1.09291003, 0.68777882, 0.34451497, 0.10418614, 0.        ,\n",
       "        0.        ],\n",
       "       [0.        , 1.50886332, 1.03925068, 0.5900375 , 0.21044155,\n",
       "        0.        ],\n",
       "       [0.        , 0.        , 1.99199716, 1.49976701, 0.97802199,\n",
       "        0.42506274],\n",
       "       [0.        , 0.        , 0.        , 2.50005621, 2.03582154,\n",
       "        1.54367913],\n",
       "       [0.        , 0.        , 0.        , 0.        , 2.9817271 ,\n",
       "        2.54396832],\n",
       "       [0.        , 0.        , 0.        , 0.        , 0.        ,\n",
       "        3.43844697]])"
      ]
     },
     "execution_count": 20,
     "metadata": {},
     "output_type": "execute_result"
    }
   ],
   "source": [
    "# CODE for European Option\n",
    "for j in range(N-1, -1, -1):\n",
    "    for i in range(j+1):\n",
    "        V[i,j] = np.exp(-r*dT) * (p * V[i,j + 1] + q * V[i + 1,j + 1])\n",
    "V"
   ]
  },
  {
   "cell_type": "code",
   "execution_count": 22,
   "id": "b09fc172",
   "metadata": {},
   "outputs": [
    {
     "name": "stdout",
     "output_type": "stream",
     "text": [
      "European put is 1.0929100335119963\n"
     ]
    }
   ],
   "source": [
    "print('European ' + payoff + ' is', str( V[0,0]))"
   ]
  },
  {
   "cell_type": "markdown",
   "id": "089d2cc0",
   "metadata": {},
   "source": [
    "QUESTION 3 "
   ]
  },
  {
   "cell_type": "markdown",
   "id": "f1b59b33",
   "metadata": {},
   "source": [
    "Use American Option, using the same data as before. \n",
    "\n",
    "American option can be more expensive than european, because it happens before. "
   ]
  },
  {
   "cell_type": "code",
   "execution_count": 24,
   "id": "82e4612f",
   "metadata": {},
   "outputs": [
    {
     "data": {
      "text/plain": [
       "array([[1.12395227, 0.70396044, 0.34990195, 0.10418614, 0.        ,\n",
       "        0.        ],\n",
       "       [0.        , 1.55512662, 1.06646308, 0.60091845, 0.21044155,\n",
       "        0.        ],\n",
       "       [0.        , 0.        , 2.05779955, 1.54367913, 1.        ,\n",
       "        0.42506274],\n",
       "       [0.        , 0.        , 0.        , 2.54396832, 2.05779955,\n",
       "        1.54367913],\n",
       "       [0.        , 0.        , 0.        , 0.        , 3.00370511,\n",
       "        2.54396832],\n",
       "       [0.        , 0.        , 0.        , 0.        , 0.        ,\n",
       "        3.43844697]])"
      ]
     },
     "execution_count": 24,
     "metadata": {},
     "output_type": "execute_result"
    }
   ],
   "source": [
    "# CODE for American Option\n",
    "if payoff ==\"call\":\n",
    "    for j in range(N-1, -1, -1):\n",
    "        for i in range(j+1):\n",
    "            V[i,j] = np.maximum(S[i,j] - K,np.exp(-r*dT) * (p * V[i,j + 1] + q * V[i + 1,j + 1]))\n",
    "elif payoff ==\"put\":\n",
    "    for j in range(N-1, -1, -1):\n",
    "        for i in range(j+1):\n",
    "            V[i,j] = np.maximum(K - S[i,j],np.exp(-r*dT) * (p * V[i,j + 1] + q * V[i + 1,j + 1]))\n",
    "V"
   ]
  },
  {
   "cell_type": "code",
   "execution_count": 26,
   "id": "33f307f3",
   "metadata": {},
   "outputs": [
    {
     "name": "stdout",
     "output_type": "stream",
     "text": [
      "American put is 1.1239522660139594\n"
     ]
    }
   ],
   "source": [
    "print('American ' + payoff + ' is', str( V[0,0]))"
   ]
  },
  {
   "cell_type": "markdown",
   "id": "59e6c48f",
   "metadata": {},
   "source": [
    "indeed, American Option IS MORE EXPENSIVE. "
   ]
  },
  {
   "cell_type": "markdown",
   "id": "ff4d8343",
   "metadata": {},
   "source": [
    "QUESTION 4 "
   ]
  },
  {
   "cell_type": "markdown",
   "id": "3dd5d19c",
   "metadata": {},
   "source": [
    "Montecarlo simulation on 1 call "
   ]
  },
  {
   "cell_type": "code",
   "execution_count": 29,
   "id": "1061507d",
   "metadata": {},
   "outputs": [],
   "source": [
    "def mcs_simulation_np(m,n):       #m is the number of steps and n is the number of simulation\n",
    "\n",
    "    #n = 10000 times for the asset price with M = 90 steps\n",
    "    \n",
    "    M = m\n",
    "    I = n\n",
    "    \n",
    "# Define the variables \n",
    "\n",
    "    dt = T / M \n",
    "    S = np.zeros((M + 1, I))\n",
    "    S[0] = S0 \n",
    "    rn = np.random.standard_normal(S.shape) \n",
    "    for t in range(1, M + 1): \n",
    "        S[t] = S[t-1] * np.exp((r - sigma ** 2 / 2) * dt + sigma * np.sqrt(dt) * rn[t]) \n",
    "    return S"
   ]
  },
  {
   "cell_type": "code",
   "execution_count": 28,
   "id": "fe435bd1",
   "metadata": {},
   "outputs": [],
   "source": [
    "S = mcs_simulation_np(90,10000)"
   ]
  },
  {
   "cell_type": "code",
   "execution_count": 31,
   "id": "97eaba2d",
   "metadata": {},
   "outputs": [
    {
     "data": {
      "text/plain": [
       "Text(0.5, 1.0, 'Frequency distribution of the simulated end-of-preiod values')"
      ]
     },
     "execution_count": 31,
     "metadata": {},
     "output_type": "execute_result"
    },
    {
     "data": {
      "image/png": "[encoded data removed]",
      "text/plain": [
       "<Figure size 432x288 with 1 Axes>"
      ]
     },
     "metadata": {
      "needs_background": "light"
     },
     "output_type": "display_data"
    }
   ],
   "source": [
    "import matplotlib.pyplot as plt\n",
    "n, bins, patches = plt.hist(x=S[-1,:], bins='auto', color='#0504aa',alpha=0.7, rwidth=0.85)\n",
    "\n",
    "plt.grid(axis='y', alpha=0.75)\n",
    "plt.xlabel('S_T')\n",
    "plt.ylabel('Frequency')\n",
    "plt.title('Frequency distribution of the simulated end-of-preiod values')"
   ]
  },
  {
   "cell_type": "markdown",
   "id": "46023796",
   "metadata": {},
   "source": [
    "QUESTION 5 "
   ]
  },
  {
   "cell_type": "markdown",
   "id": "e7e38c82",
   "metadata": {},
   "source": [
    "European Call "
   ]
  },
  {
   "cell_type": "code",
   "execution_count": 35,
   "id": "6f72c363",
   "metadata": {},
   "outputs": [
    {
     "name": "stdout",
     "output_type": "stream",
     "text": [
      "European call 0.1961404628611193\n"
     ]
    }
   ],
   "source": [
    "p = np.mean(np.maximum(S[-1,:] - K,0))\n",
    "print('European call', str(p))\n",
    "\n",
    "#this will cause a large error because the time frame is too small "
   ]
  },
  {
   "cell_type": "markdown",
   "id": "2821c79d",
   "metadata": {},
   "source": [
    "QUESTION 6"
   ]
  },
  {
   "cell_type": "markdown",
   "id": "cdcea125",
   "metadata": {},
   "source": [
    "Binary Call "
   ]
  },
  {
   "cell_type": "code",
   "execution_count": 38,
   "id": "f8af22d8",
   "metadata": {},
   "outputs": [
    {
     "name": "stdout",
     "output_type": "stream",
     "text": [
      "Binary call 0.2281\n"
     ]
    }
   ],
   "source": [
    "cp = (S[-1,:]  - K)>0 #Boolean, we add >0 to set up a boolean to check the value is true, then it change to an antigen\n",
    "bpc = np.mean(np.maximum(cp.astype(int),0))\n",
    "print('Binary call', str(bpc))"
   ]
  },
  {
   "cell_type": "markdown",
   "id": "3bac3a5f",
   "metadata": {},
   "source": [
    "Binary option for Put"
   ]
  },
  {
   "cell_type": "code",
   "execution_count": 39,
   "id": "808de6f9",
   "metadata": {},
   "outputs": [
    {
     "name": "stdout",
     "output_type": "stream",
     "text": [
      "Binary put 0.7719\n"
     ]
    }
   ],
   "source": [
    "pp = (K - S[-1,:])>0\n",
    "bpp = np.mean(np.maximum(pp.astype(int),0))\n",
    "print('Binary put', str(bpp))"
   ]
  },
  {
   "cell_type": "markdown",
   "id": "1b4df3d3",
   "metadata": {},
   "source": [
    "Binary Put-Call parity"
   ]
  },
  {
   "cell_type": "code",
   "execution_count": 41,
   "id": "41d4cc5a",
   "metadata": {},
   "outputs": [
    {
     "data": {
      "text/plain": [
       "1.0"
      ]
     },
     "execution_count": 41,
     "metadata": {},
     "output_type": "execute_result"
    }
   ],
   "source": [
    "bpc + bpp\n"
   ]
  },
  {
   "cell_type": "code",
   "execution_count": null,
   "id": "6d0ee5d4",
   "metadata": {},
   "outputs": [],
   "source": []
  }
 ],
 "metadata": {
  "kernelspec": {
   "display_name": "Python 3",
   "language": "python",
   "name": "python3"
  },
  "language_info": {
   "codemirror_mode": {
    "name": "ipython",
    "version": 3
   },
   "file_extension": ".py",
   "mimetype": "text/x-python",
   "name": "python",
   "nbconvert_exporter": "python",
   "pygments_lexer": "ipython3",
   "version": "3.8.8"
  }
 },
 "nbformat": 4,
 "nbformat_minor": 5
}
